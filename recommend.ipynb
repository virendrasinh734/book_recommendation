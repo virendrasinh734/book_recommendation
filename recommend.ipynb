{
  "cells": [
    {
      "cell_type": "code",
      "execution_count": 1,
      "metadata": {
        "id": "cB9d-O5jh7EG"
      },
      "outputs": [],
      "source": [
        "# import libraries\n",
        "import numpy as np\n",
        "import pandas as pd\n",
        "from sklearn.neighbors import NearestNeighbors\n",
        "import matplotlib.pyplot as plt"
      ]
    },
    {
      "cell_type": "code",
      "execution_count": 2,
      "metadata": {
        "colab": {
          "base_uri": "https://localhost:8080/"
        },
        "id": "sYx0AodOiA_T",
        "outputId": "42be157a-1f1c-48e1-eeff-28751f63f709"
      },
      "outputs": [
        {
          "name": "stdout",
          "output_type": "stream",
          "text": [
            "--2023-07-25 19:26:06--  https://cdn.freecodecamp.org/project-data/books/book-crossings.zip\n",
            "Resolving cdn.freecodecamp.org (cdn.freecodecamp.org)... 104.26.3.33, 172.67.70.149, 104.26.2.33, ...\n",
            "Connecting to cdn.freecodecamp.org (cdn.freecodecamp.org)|104.26.3.33|:443... connected.\n",
            "HTTP request sent, awaiting response... 200 OK\n",
            "Length: 26085508 (25M) [application/zip]\n",
            "Saving to: ‘book-crossings.zip.2’\n",
            "\n",
            "book-crossings.zip. 100%[===================>]  24.88M  8.40MB/s    in 3.0s    \n",
            "\n",
            "2023-07-25 19:26:09 (8.40 MB/s) - ‘book-crossings.zip.2’ saved [26085508/26085508]\n",
            "\n",
            "Archive:  book-crossings.zip\n",
            "replace BX-Book-Ratings.csv? [y]es, [n]o, [A]ll, [N]one, [r]ename: ^C\n"
          ]
        }
      ],
      "source": [
        "# get data files\n",
        "!wget https://cdn.freecodecamp.org/project-data/books/book-crossings.zip\n",
        "\n",
        "!unzip book-crossings.zip\n",
        "\n",
        "books_filename = 'BX-Books.csv'\n",
        "ratings_filename = 'BX-Book-Ratings.csv'"
      ]
    },
    {
      "cell_type": "code",
      "execution_count": 3,
      "metadata": {
        "id": "s4xcCUNLiFq9"
      },
      "outputs": [],
      "source": [
        "df_books = pd.read_csv(\n",
        "    books_filename,\n",
        "    encoding = \"ISO-8859-1\",\n",
        "    sep=\";\",\n",
        "    header=0,\n",
        "    names=['isbn', 'title', 'author'],\n",
        "    usecols=['isbn', 'title', 'author'],\n",
        "    dtype={'isbn': 'str', 'title': 'str', 'author': 'str'})\n",
        "\n",
        "df_ratings = pd.read_csv(\n",
        "    ratings_filename,\n",
        "    encoding = \"ISO-8859-1\",\n",
        "    sep=\";\",\n",
        "    header=0,\n",
        "    names=['user', 'isbn', 'rating'],\n",
        "    usecols=['user', 'isbn', 'rating'],\n",
        "    dtype={'user': 'int32', 'isbn': 'str', 'rating': 'float32'})"
      ]
    },
    {
      "cell_type": "code",
      "execution_count": 4,
      "metadata": {
        "colab": {
          "base_uri": "https://localhost:8080/"
        },
        "id": "CFW5Ztc2iImV",
        "outputId": "e8804562-1062-4617-dc66-1ab6d89fceaa"
      },
      "outputs": [
        {
          "name": "stdout",
          "output_type": "stream",
          "text": [
            "(271379, 3)\n",
            "(1149780, 3)\n"
          ]
        }
      ],
      "source": [
        "print(df_books.shape)\n",
        "print(df_ratings.shape)"
      ]
    },
    {
      "cell_type": "code",
      "execution_count": 5,
      "metadata": {
        "id": "j40Mdq05iMQT"
      },
      "outputs": [],
      "source": [
        "user_review_counts = df_ratings['user'].value_counts()\n",
        "\n",
        "book_review_counts = df_ratings['isbn'].value_counts()\n",
        "\n",
        "filtered_ratings = df_ratings[\n",
        "    (df_ratings['user'].isin(user_review_counts[user_review_counts > 100].index)) &\n",
        "    (df_ratings['isbn'].isin(book_review_counts[book_review_counts > 10].index))\n",
        "]\n",
        "\n",
        "final_data = filtered_ratings.merge(df_books, on='isbn')"
      ]
    },
    {
      "cell_type": "code",
      "execution_count": 7,
      "metadata": {
        "colab": {
          "base_uri": "https://localhost:8080/",
          "height": 424
        },
        "id": "W8Xzyn27iO7U",
        "outputId": "61982513-4c97-4bc3-c7d3-2eab0afde411"
      },
      "outputs": [
        {
          "data": {
            "text/html": [
              "<div>\n",
              "<style scoped>\n",
              "    .dataframe tbody tr th:only-of-type {\n",
              "        vertical-align: middle;\n",
              "    }\n",
              "\n",
              "    .dataframe tbody tr th {\n",
              "        vertical-align: top;\n",
              "    }\n",
              "\n",
              "    .dataframe thead th {\n",
              "        text-align: right;\n",
              "    }\n",
              "</style>\n",
              "<table border=\"1\" class=\"dataframe\">\n",
              "  <thead>\n",
              "    <tr style=\"text-align: right;\">\n",
              "      <th></th>\n",
              "      <th>user</th>\n",
              "      <th>isbn</th>\n",
              "      <th>rating</th>\n",
              "      <th>title</th>\n",
              "      <th>author</th>\n",
              "    </tr>\n",
              "  </thead>\n",
              "  <tbody>\n",
              "    <tr>\n",
              "      <th>0</th>\n",
              "      <td>276925</td>\n",
              "      <td>002542730X</td>\n",
              "      <td>10.0</td>\n",
              "      <td>Politically Correct Bedtime Stories: Modern Ta...</td>\n",
              "      <td>James Finn Garner</td>\n",
              "    </tr>\n",
              "    <tr>\n",
              "      <th>1</th>\n",
              "      <td>277427</td>\n",
              "      <td>002542730X</td>\n",
              "      <td>10.0</td>\n",
              "      <td>Politically Correct Bedtime Stories: Modern Ta...</td>\n",
              "      <td>James Finn Garner</td>\n",
              "    </tr>\n",
              "    <tr>\n",
              "      <th>2</th>\n",
              "      <td>3363</td>\n",
              "      <td>002542730X</td>\n",
              "      <td>0.0</td>\n",
              "      <td>Politically Correct Bedtime Stories: Modern Ta...</td>\n",
              "      <td>James Finn Garner</td>\n",
              "    </tr>\n",
              "    <tr>\n",
              "      <th>3</th>\n",
              "      <td>10030</td>\n",
              "      <td>002542730X</td>\n",
              "      <td>7.0</td>\n",
              "      <td>Politically Correct Bedtime Stories: Modern Ta...</td>\n",
              "      <td>James Finn Garner</td>\n",
              "    </tr>\n",
              "    <tr>\n",
              "      <th>4</th>\n",
              "      <td>11676</td>\n",
              "      <td>002542730X</td>\n",
              "      <td>6.0</td>\n",
              "      <td>Politically Correct Bedtime Stories: Modern Ta...</td>\n",
              "      <td>James Finn Garner</td>\n",
              "    </tr>\n",
              "    <tr>\n",
              "      <th>...</th>\n",
              "      <td>...</td>\n",
              "      <td>...</td>\n",
              "      <td>...</td>\n",
              "      <td>...</td>\n",
              "      <td>...</td>\n",
              "    </tr>\n",
              "    <tr>\n",
              "      <th>273476</th>\n",
              "      <td>252695</td>\n",
              "      <td>0140445285</td>\n",
              "      <td>0.0</td>\n",
              "      <td>Crime and Punishment (Penguin Classics)</td>\n",
              "      <td>Fyodor Dostoyevsky</td>\n",
              "    </tr>\n",
              "    <tr>\n",
              "      <th>273477</th>\n",
              "      <td>264903</td>\n",
              "      <td>3789129402</td>\n",
              "      <td>10.0</td>\n",
              "      <td>Ronja, RÃ?Â¤ubertochter. ( Ab 10 J.).</td>\n",
              "      <td>Astrid Lindgren</td>\n",
              "    </tr>\n",
              "    <tr>\n",
              "      <th>273478</th>\n",
              "      <td>268030</td>\n",
              "      <td>0141182679</td>\n",
              "      <td>0.0</td>\n",
              "      <td>On the Road (Penguin Modern Classics)</td>\n",
              "      <td>Jack Kerouac</td>\n",
              "    </tr>\n",
              "    <tr>\n",
              "      <th>273479</th>\n",
              "      <td>276018</td>\n",
              "      <td>3498044761</td>\n",
              "      <td>0.0</td>\n",
              "      <td>Der TÃ?Â¤nzer.</td>\n",
              "      <td>Colum McCann</td>\n",
              "    </tr>\n",
              "    <tr>\n",
              "      <th>273480</th>\n",
              "      <td>276538</td>\n",
              "      <td>3442422337</td>\n",
              "      <td>5.0</td>\n",
              "      <td>Mondlaub.</td>\n",
              "      <td>Tanja Kinkel</td>\n",
              "    </tr>\n",
              "  </tbody>\n",
              "</table>\n",
              "<p>273481 rows × 5 columns</p>\n",
              "</div>"
            ],
            "text/plain": [
              "          user        isbn  rating  \\\n",
              "0       276925  002542730X    10.0   \n",
              "1       277427  002542730X    10.0   \n",
              "2         3363  002542730X     0.0   \n",
              "3        10030  002542730X     7.0   \n",
              "4        11676  002542730X     6.0   \n",
              "...        ...         ...     ...   \n",
              "273476  252695  0140445285     0.0   \n",
              "273477  264903  3789129402    10.0   \n",
              "273478  268030  0141182679     0.0   \n",
              "273479  276018  3498044761     0.0   \n",
              "273480  276538  3442422337     5.0   \n",
              "\n",
              "                                                    title              author  \n",
              "0       Politically Correct Bedtime Stories: Modern Ta...   James Finn Garner  \n",
              "1       Politically Correct Bedtime Stories: Modern Ta...   James Finn Garner  \n",
              "2       Politically Correct Bedtime Stories: Modern Ta...   James Finn Garner  \n",
              "3       Politically Correct Bedtime Stories: Modern Ta...   James Finn Garner  \n",
              "4       Politically Correct Bedtime Stories: Modern Ta...   James Finn Garner  \n",
              "...                                                   ...                 ...  \n",
              "273476            Crime and Punishment (Penguin Classics)  Fyodor Dostoyevsky  \n",
              "273477              Ronja, RÃ?Â¤ubertochter. ( Ab 10 J.).     Astrid Lindgren  \n",
              "273478              On the Road (Penguin Modern Classics)        Jack Kerouac  \n",
              "273479                                     Der TÃ?Â¤nzer.        Colum McCann  \n",
              "273480                                          Mondlaub.        Tanja Kinkel  \n",
              "\n",
              "[273481 rows x 5 columns]"
            ]
          },
          "execution_count": 7,
          "metadata": {},
          "output_type": "execute_result"
        }
      ],
      "source": [
        "final_data"
      ]
    },
    {
      "cell_type": "code",
      "execution_count": 8,
      "metadata": {},
      "outputs": [
        {
          "data": {
            "text/plain": [
              "0         Politically Correct Bedtime Stories: Modern Ta...\n",
              "102           Sushi for Beginners : A Novel (Keyes, Marian)\n",
              "118               Wasted : A Memoir of Anorexia and Bulimia\n",
              "130                               La casa de los espÃ­ritus\n",
              "138                                     The Music of Chance\n",
              "                                ...                        \n",
              "273474    Bias : A CBS Insider Exposes How the Media Dis...\n",
              "273477                Ronja, RÃ?Â¤ubertochter. ( Ab 10 J.).\n",
              "273478                On the Road (Penguin Modern Classics)\n",
              "273479                                       Der TÃ?Â¤nzer.\n",
              "273480                                            Mondlaub.\n",
              "Name: title, Length: 13629, dtype: object"
            ]
          },
          "execution_count": 8,
          "metadata": {},
          "output_type": "execute_result"
        }
      ],
      "source": [
        "titles=final_data['title']\n",
        "tr=titles.drop_duplicates()\n",
        "tr"
      ]
    },
    {
      "cell_type": "code",
      "execution_count": 9,
      "metadata": {
        "colab": {
          "base_uri": "https://localhost:8080/",
          "height": 551
        },
        "id": "-AfDeiSoiSmd",
        "outputId": "aa354672-a900-44b0-febc-0f2048e4d6ee"
      },
      "outputs": [
        {
          "data": {
            "text/html": [
              "<div>\n",
              "<style scoped>\n",
              "    .dataframe tbody tr th:only-of-type {\n",
              "        vertical-align: middle;\n",
              "    }\n",
              "\n",
              "    .dataframe tbody tr th {\n",
              "        vertical-align: top;\n",
              "    }\n",
              "\n",
              "    .dataframe thead th {\n",
              "        text-align: right;\n",
              "    }\n",
              "</style>\n",
              "<table border=\"1\" class=\"dataframe\">\n",
              "  <thead>\n",
              "    <tr style=\"text-align: right;\">\n",
              "      <th>user</th>\n",
              "      <th>254</th>\n",
              "      <th>507</th>\n",
              "      <th>882</th>\n",
              "      <th>1424</th>\n",
              "      <th>1435</th>\n",
              "      <th>1733</th>\n",
              "      <th>1903</th>\n",
              "      <th>2033</th>\n",
              "      <th>2110</th>\n",
              "      <th>2276</th>\n",
              "      <th>...</th>\n",
              "      <th>276463</th>\n",
              "      <th>276538</th>\n",
              "      <th>276680</th>\n",
              "      <th>276925</th>\n",
              "      <th>277427</th>\n",
              "      <th>277478</th>\n",
              "      <th>277639</th>\n",
              "      <th>278137</th>\n",
              "      <th>278188</th>\n",
              "      <th>278418</th>\n",
              "    </tr>\n",
              "    <tr>\n",
              "      <th>title</th>\n",
              "      <th></th>\n",
              "      <th></th>\n",
              "      <th></th>\n",
              "      <th></th>\n",
              "      <th></th>\n",
              "      <th></th>\n",
              "      <th></th>\n",
              "      <th></th>\n",
              "      <th></th>\n",
              "      <th></th>\n",
              "      <th></th>\n",
              "      <th></th>\n",
              "      <th></th>\n",
              "      <th></th>\n",
              "      <th></th>\n",
              "      <th></th>\n",
              "      <th></th>\n",
              "      <th></th>\n",
              "      <th></th>\n",
              "      <th></th>\n",
              "      <th></th>\n",
              "    </tr>\n",
              "  </thead>\n",
              "  <tbody>\n",
              "    <tr>\n",
              "      <th>Murder of a Sleeping Beauty (Scumble River Mysteries (Paperback))</th>\n",
              "      <td>0.0</td>\n",
              "      <td>0.0</td>\n",
              "      <td>0.0</td>\n",
              "      <td>0.0</td>\n",
              "      <td>0.0</td>\n",
              "      <td>0.0</td>\n",
              "      <td>0.0</td>\n",
              "      <td>0.0</td>\n",
              "      <td>0.0</td>\n",
              "      <td>0.0</td>\n",
              "      <td>...</td>\n",
              "      <td>0.0</td>\n",
              "      <td>0.0</td>\n",
              "      <td>0.0</td>\n",
              "      <td>0.0</td>\n",
              "      <td>0.0</td>\n",
              "      <td>0.0</td>\n",
              "      <td>0.0</td>\n",
              "      <td>0.0</td>\n",
              "      <td>0.0</td>\n",
              "      <td>0.0</td>\n",
              "    </tr>\n",
              "    <tr>\n",
              "      <th>Q-Space (Star Trek The Next Generation, Book 47)</th>\n",
              "      <td>0.0</td>\n",
              "      <td>0.0</td>\n",
              "      <td>0.0</td>\n",
              "      <td>0.0</td>\n",
              "      <td>0.0</td>\n",
              "      <td>0.0</td>\n",
              "      <td>0.0</td>\n",
              "      <td>0.0</td>\n",
              "      <td>0.0</td>\n",
              "      <td>0.0</td>\n",
              "      <td>...</td>\n",
              "      <td>0.0</td>\n",
              "      <td>0.0</td>\n",
              "      <td>0.0</td>\n",
              "      <td>0.0</td>\n",
              "      <td>0.0</td>\n",
              "      <td>0.0</td>\n",
              "      <td>0.0</td>\n",
              "      <td>0.0</td>\n",
              "      <td>0.0</td>\n",
              "      <td>0.0</td>\n",
              "    </tr>\n",
              "    <tr>\n",
              "      <th>Q-Zone (Star Trek The Next Generation, Book 48)</th>\n",
              "      <td>0.0</td>\n",
              "      <td>0.0</td>\n",
              "      <td>0.0</td>\n",
              "      <td>0.0</td>\n",
              "      <td>0.0</td>\n",
              "      <td>0.0</td>\n",
              "      <td>0.0</td>\n",
              "      <td>0.0</td>\n",
              "      <td>0.0</td>\n",
              "      <td>0.0</td>\n",
              "      <td>...</td>\n",
              "      <td>0.0</td>\n",
              "      <td>0.0</td>\n",
              "      <td>0.0</td>\n",
              "      <td>0.0</td>\n",
              "      <td>0.0</td>\n",
              "      <td>0.0</td>\n",
              "      <td>0.0</td>\n",
              "      <td>0.0</td>\n",
              "      <td>0.0</td>\n",
              "      <td>0.0</td>\n",
              "    </tr>\n",
              "    <tr>\n",
              "      <th>!Yo!</th>\n",
              "      <td>0.0</td>\n",
              "      <td>0.0</td>\n",
              "      <td>0.0</td>\n",
              "      <td>0.0</td>\n",
              "      <td>0.0</td>\n",
              "      <td>0.0</td>\n",
              "      <td>0.0</td>\n",
              "      <td>0.0</td>\n",
              "      <td>0.0</td>\n",
              "      <td>0.0</td>\n",
              "      <td>...</td>\n",
              "      <td>0.0</td>\n",
              "      <td>0.0</td>\n",
              "      <td>0.0</td>\n",
              "      <td>0.0</td>\n",
              "      <td>0.0</td>\n",
              "      <td>0.0</td>\n",
              "      <td>0.0</td>\n",
              "      <td>0.0</td>\n",
              "      <td>0.0</td>\n",
              "      <td>0.0</td>\n",
              "    </tr>\n",
              "    <tr>\n",
              "      <th>'Salem's Lot</th>\n",
              "      <td>0.0</td>\n",
              "      <td>0.0</td>\n",
              "      <td>0.0</td>\n",
              "      <td>0.0</td>\n",
              "      <td>0.0</td>\n",
              "      <td>0.0</td>\n",
              "      <td>0.0</td>\n",
              "      <td>0.0</td>\n",
              "      <td>0.0</td>\n",
              "      <td>0.0</td>\n",
              "      <td>...</td>\n",
              "      <td>0.0</td>\n",
              "      <td>0.0</td>\n",
              "      <td>0.0</td>\n",
              "      <td>0.0</td>\n",
              "      <td>0.0</td>\n",
              "      <td>0.0</td>\n",
              "      <td>0.0</td>\n",
              "      <td>0.0</td>\n",
              "      <td>0.0</td>\n",
              "      <td>0.0</td>\n",
              "    </tr>\n",
              "    <tr>\n",
              "      <th>...</th>\n",
              "      <td>...</td>\n",
              "      <td>...</td>\n",
              "      <td>...</td>\n",
              "      <td>...</td>\n",
              "      <td>...</td>\n",
              "      <td>...</td>\n",
              "      <td>...</td>\n",
              "      <td>...</td>\n",
              "      <td>...</td>\n",
              "      <td>...</td>\n",
              "      <td>...</td>\n",
              "      <td>...</td>\n",
              "      <td>...</td>\n",
              "      <td>...</td>\n",
              "      <td>...</td>\n",
              "      <td>...</td>\n",
              "      <td>...</td>\n",
              "      <td>...</td>\n",
              "      <td>...</td>\n",
              "      <td>...</td>\n",
              "      <td>...</td>\n",
              "    </tr>\n",
              "    <tr>\n",
              "      <th>e</th>\n",
              "      <td>0.0</td>\n",
              "      <td>0.0</td>\n",
              "      <td>0.0</td>\n",
              "      <td>0.0</td>\n",
              "      <td>0.0</td>\n",
              "      <td>0.0</td>\n",
              "      <td>0.0</td>\n",
              "      <td>0.0</td>\n",
              "      <td>0.0</td>\n",
              "      <td>0.0</td>\n",
              "      <td>...</td>\n",
              "      <td>0.0</td>\n",
              "      <td>0.0</td>\n",
              "      <td>0.0</td>\n",
              "      <td>0.0</td>\n",
              "      <td>0.0</td>\n",
              "      <td>0.0</td>\n",
              "      <td>0.0</td>\n",
              "      <td>0.0</td>\n",
              "      <td>0.0</td>\n",
              "      <td>0.0</td>\n",
              "    </tr>\n",
              "    <tr>\n",
              "      <th>iI Paradiso Degli Orchi</th>\n",
              "      <td>0.0</td>\n",
              "      <td>0.0</td>\n",
              "      <td>0.0</td>\n",
              "      <td>0.0</td>\n",
              "      <td>0.0</td>\n",
              "      <td>0.0</td>\n",
              "      <td>0.0</td>\n",
              "      <td>0.0</td>\n",
              "      <td>0.0</td>\n",
              "      <td>0.0</td>\n",
              "      <td>...</td>\n",
              "      <td>0.0</td>\n",
              "      <td>0.0</td>\n",
              "      <td>0.0</td>\n",
              "      <td>0.0</td>\n",
              "      <td>0.0</td>\n",
              "      <td>0.0</td>\n",
              "      <td>0.0</td>\n",
              "      <td>0.0</td>\n",
              "      <td>0.0</td>\n",
              "      <td>0.0</td>\n",
              "    </tr>\n",
              "    <tr>\n",
              "      <th>one hundred years of solitude</th>\n",
              "      <td>0.0</td>\n",
              "      <td>0.0</td>\n",
              "      <td>0.0</td>\n",
              "      <td>0.0</td>\n",
              "      <td>0.0</td>\n",
              "      <td>0.0</td>\n",
              "      <td>0.0</td>\n",
              "      <td>0.0</td>\n",
              "      <td>0.0</td>\n",
              "      <td>0.0</td>\n",
              "      <td>...</td>\n",
              "      <td>0.0</td>\n",
              "      <td>0.0</td>\n",
              "      <td>0.0</td>\n",
              "      <td>0.0</td>\n",
              "      <td>0.0</td>\n",
              "      <td>0.0</td>\n",
              "      <td>0.0</td>\n",
              "      <td>0.0</td>\n",
              "      <td>0.0</td>\n",
              "      <td>0.0</td>\n",
              "    </tr>\n",
              "    <tr>\n",
              "      <th>stardust</th>\n",
              "      <td>0.0</td>\n",
              "      <td>0.0</td>\n",
              "      <td>0.0</td>\n",
              "      <td>0.0</td>\n",
              "      <td>0.0</td>\n",
              "      <td>0.0</td>\n",
              "      <td>0.0</td>\n",
              "      <td>0.0</td>\n",
              "      <td>0.0</td>\n",
              "      <td>0.0</td>\n",
              "      <td>...</td>\n",
              "      <td>0.0</td>\n",
              "      <td>0.0</td>\n",
              "      <td>0.0</td>\n",
              "      <td>0.0</td>\n",
              "      <td>0.0</td>\n",
              "      <td>0.0</td>\n",
              "      <td>0.0</td>\n",
              "      <td>0.0</td>\n",
              "      <td>0.0</td>\n",
              "      <td>0.0</td>\n",
              "    </tr>\n",
              "    <tr>\n",
              "      <th>why I'm like this : True Stories</th>\n",
              "      <td>0.0</td>\n",
              "      <td>0.0</td>\n",
              "      <td>0.0</td>\n",
              "      <td>0.0</td>\n",
              "      <td>0.0</td>\n",
              "      <td>0.0</td>\n",
              "      <td>0.0</td>\n",
              "      <td>0.0</td>\n",
              "      <td>0.0</td>\n",
              "      <td>0.0</td>\n",
              "      <td>...</td>\n",
              "      <td>0.0</td>\n",
              "      <td>0.0</td>\n",
              "      <td>0.0</td>\n",
              "      <td>0.0</td>\n",
              "      <td>0.0</td>\n",
              "      <td>0.0</td>\n",
              "      <td>0.0</td>\n",
              "      <td>0.0</td>\n",
              "      <td>0.0</td>\n",
              "      <td>0.0</td>\n",
              "    </tr>\n",
              "  </tbody>\n",
              "</table>\n",
              "<p>13629 rows × 1818 columns</p>\n",
              "</div>"
            ],
            "text/plain": [
              "user                                                254     507     882     \\\n",
              "title                                                                        \n",
              " Murder of a Sleeping Beauty (Scumble River Mys...     0.0     0.0     0.0   \n",
              " Q-Space (Star Trek The Next Generation, Book 47)      0.0     0.0     0.0   \n",
              " Q-Zone (Star Trek The Next Generation, Book 48)       0.0     0.0     0.0   \n",
              "!Yo!                                                   0.0     0.0     0.0   \n",
              "'Salem's Lot                                           0.0     0.0     0.0   \n",
              "...                                                    ...     ...     ...   \n",
              "e                                                      0.0     0.0     0.0   \n",
              "iI Paradiso Degli Orchi                                0.0     0.0     0.0   \n",
              "one hundred years of solitude                          0.0     0.0     0.0   \n",
              "stardust                                               0.0     0.0     0.0   \n",
              "why I'm like this : True Stories                       0.0     0.0     0.0   \n",
              "\n",
              "user                                                1424    1435    1733    \\\n",
              "title                                                                        \n",
              " Murder of a Sleeping Beauty (Scumble River Mys...     0.0     0.0     0.0   \n",
              " Q-Space (Star Trek The Next Generation, Book 47)      0.0     0.0     0.0   \n",
              " Q-Zone (Star Trek The Next Generation, Book 48)       0.0     0.0     0.0   \n",
              "!Yo!                                                   0.0     0.0     0.0   \n",
              "'Salem's Lot                                           0.0     0.0     0.0   \n",
              "...                                                    ...     ...     ...   \n",
              "e                                                      0.0     0.0     0.0   \n",
              "iI Paradiso Degli Orchi                                0.0     0.0     0.0   \n",
              "one hundred years of solitude                          0.0     0.0     0.0   \n",
              "stardust                                               0.0     0.0     0.0   \n",
              "why I'm like this : True Stories                       0.0     0.0     0.0   \n",
              "\n",
              "user                                                1903    2033    2110    \\\n",
              "title                                                                        \n",
              " Murder of a Sleeping Beauty (Scumble River Mys...     0.0     0.0     0.0   \n",
              " Q-Space (Star Trek The Next Generation, Book 47)      0.0     0.0     0.0   \n",
              " Q-Zone (Star Trek The Next Generation, Book 48)       0.0     0.0     0.0   \n",
              "!Yo!                                                   0.0     0.0     0.0   \n",
              "'Salem's Lot                                           0.0     0.0     0.0   \n",
              "...                                                    ...     ...     ...   \n",
              "e                                                      0.0     0.0     0.0   \n",
              "iI Paradiso Degli Orchi                                0.0     0.0     0.0   \n",
              "one hundred years of solitude                          0.0     0.0     0.0   \n",
              "stardust                                               0.0     0.0     0.0   \n",
              "why I'm like this : True Stories                       0.0     0.0     0.0   \n",
              "\n",
              "user                                                2276    ...  276463  \\\n",
              "title                                                       ...           \n",
              " Murder of a Sleeping Beauty (Scumble River Mys...     0.0  ...     0.0   \n",
              " Q-Space (Star Trek The Next Generation, Book 47)      0.0  ...     0.0   \n",
              " Q-Zone (Star Trek The Next Generation, Book 48)       0.0  ...     0.0   \n",
              "!Yo!                                                   0.0  ...     0.0   \n",
              "'Salem's Lot                                           0.0  ...     0.0   \n",
              "...                                                    ...  ...     ...   \n",
              "e                                                      0.0  ...     0.0   \n",
              "iI Paradiso Degli Orchi                                0.0  ...     0.0   \n",
              "one hundred years of solitude                          0.0  ...     0.0   \n",
              "stardust                                               0.0  ...     0.0   \n",
              "why I'm like this : True Stories                       0.0  ...     0.0   \n",
              "\n",
              "user                                                276538  276680  276925  \\\n",
              "title                                                                        \n",
              " Murder of a Sleeping Beauty (Scumble River Mys...     0.0     0.0     0.0   \n",
              " Q-Space (Star Trek The Next Generation, Book 47)      0.0     0.0     0.0   \n",
              " Q-Zone (Star Trek The Next Generation, Book 48)       0.0     0.0     0.0   \n",
              "!Yo!                                                   0.0     0.0     0.0   \n",
              "'Salem's Lot                                           0.0     0.0     0.0   \n",
              "...                                                    ...     ...     ...   \n",
              "e                                                      0.0     0.0     0.0   \n",
              "iI Paradiso Degli Orchi                                0.0     0.0     0.0   \n",
              "one hundred years of solitude                          0.0     0.0     0.0   \n",
              "stardust                                               0.0     0.0     0.0   \n",
              "why I'm like this : True Stories                       0.0     0.0     0.0   \n",
              "\n",
              "user                                                277427  277478  277639  \\\n",
              "title                                                                        \n",
              " Murder of a Sleeping Beauty (Scumble River Mys...     0.0     0.0     0.0   \n",
              " Q-Space (Star Trek The Next Generation, Book 47)      0.0     0.0     0.0   \n",
              " Q-Zone (Star Trek The Next Generation, Book 48)       0.0     0.0     0.0   \n",
              "!Yo!                                                   0.0     0.0     0.0   \n",
              "'Salem's Lot                                           0.0     0.0     0.0   \n",
              "...                                                    ...     ...     ...   \n",
              "e                                                      0.0     0.0     0.0   \n",
              "iI Paradiso Degli Orchi                                0.0     0.0     0.0   \n",
              "one hundred years of solitude                          0.0     0.0     0.0   \n",
              "stardust                                               0.0     0.0     0.0   \n",
              "why I'm like this : True Stories                       0.0     0.0     0.0   \n",
              "\n",
              "user                                                278137  278188  278418  \n",
              "title                                                                       \n",
              " Murder of a Sleeping Beauty (Scumble River Mys...     0.0     0.0     0.0  \n",
              " Q-Space (Star Trek The Next Generation, Book 47)      0.0     0.0     0.0  \n",
              " Q-Zone (Star Trek The Next Generation, Book 48)       0.0     0.0     0.0  \n",
              "!Yo!                                                   0.0     0.0     0.0  \n",
              "'Salem's Lot                                           0.0     0.0     0.0  \n",
              "...                                                    ...     ...     ...  \n",
              "e                                                      0.0     0.0     0.0  \n",
              "iI Paradiso Degli Orchi                                0.0     0.0     0.0  \n",
              "one hundred years of solitude                          0.0     0.0     0.0  \n",
              "stardust                                               0.0     0.0     0.0  \n",
              "why I'm like this : True Stories                       0.0     0.0     0.0  \n",
              "\n",
              "[13629 rows x 1818 columns]"
            ]
          },
          "execution_count": 9,
          "metadata": {},
          "output_type": "execute_result"
        }
      ],
      "source": [
        "table=final_data.pivot_table(index='title',columns='user',values='rating')\n",
        "table.fillna(0,inplace=True)\n",
        "table"
      ]
    },
    {
      "cell_type": "code",
      "execution_count": 9,
      "metadata": {},
      "outputs": [
        {
          "data": {
            "text/plain": [
              "(28681, 1822)"
            ]
          },
          "execution_count": 9,
          "metadata": {},
          "output_type": "execute_result"
        }
      ],
      "source": [
        "table.shape"
      ]
    },
    {
      "cell_type": "code",
      "execution_count": 10,
      "metadata": {},
      "outputs": [
        {
          "name": "stdout",
          "output_type": "stream",
          "text": [
            "<class 'pandas.core.frame.DataFrame'>\n",
            "Index: 28681 entries,  Earth Prayers From around the World: 365 Prayers, Poems, and Invocations for Honoring the Earth to Â¿QuÃ© me quieres, amor?\n",
            "Columns: 1822 entries, 183 to 278418\n",
            "dtypes: float32(1822)\n",
            "memory usage: 199.6+ MB\n"
          ]
        }
      ],
      "source": [
        "table.info()"
      ]
    },
    {
      "cell_type": "code",
      "execution_count": 10,
      "metadata": {
        "id": "2TMXwCNAzn8i"
      },
      "outputs": [],
      "source": [
        "import sqlite3\n"
      ]
    },
    {
      "cell_type": "code",
      "execution_count": 11,
      "metadata": {
        "colab": {
          "base_uri": "https://localhost:8080/"
        },
        "id": "gLnk8RYSzuOl",
        "outputId": "7f46d5bf-59cc-4d4a-cfe4-94f0994f14cd"
      },
      "outputs": [],
      "source": [
        "conn = sqlite3.connect('my_database.db')\n",
        "tr.to_sql('table_name', conn, if_exists='replace', index=False, dtype={'title': 'TEXT'})\n",
        "conn.close()"
      ]
    },
    {
      "cell_type": "code",
      "execution_count": 12,
      "metadata": {},
      "outputs": [],
      "source": [
        "def get_db_connection():\n",
        "    conn = sqlite3.connect('my_database.db')\n",
        "    return conn\n",
        "\n",
        "def get_book_titles():\n",
        "    conn = get_db_connection()\n",
        "    cursor = conn.cursor()\n",
        "    cursor.execute('SELECT title FROM table_name')\n",
        "    titles = [row[0] for row in cursor.fetchall()]\n",
        "    conn.close()\n",
        "    return titles\n",
        "\n",
        "titles2 = get_book_titles()"
      ]
    },
    {
      "cell_type": "code",
      "execution_count": 85,
      "metadata": {
        "colab": {
          "base_uri": "https://localhost:8080/"
        },
        "id": "tvN7A3DU0fnV",
        "outputId": "25e251f3-bbfa-43c6-ef56-dfa28e9b8aa9"
      },
      "outputs": [
        {
          "name": "stderr",
          "output_type": "stream",
          "text": [
            "/usr/local/lib/python3.10/dist-packages/fuzzywuzzy/fuzz.py:11: UserWarning: Using slow pure-python SequenceMatcher. Install python-Levenshtein to remove this warning\n",
            "  warnings.warn('Using slow pure-python SequenceMatcher. Install python-Levenshtein to remove this warning')\n"
          ]
        }
      ],
      "source": [
        "from fuzzywuzzy import fuzz, process\n"
      ]
    },
    {
      "cell_type": "code",
      "execution_count": 13,
      "metadata": {
        "colab": {
          "base_uri": "https://localhost:8080/"
        },
        "id": "d_XO2_Idi2Xl",
        "outputId": "b0b0a233-7cc1-4f9c-e027-ac2dc4844c95"
      },
      "outputs": [
        {
          "name": "stdout",
          "output_type": "stream",
          "text": [
            "[[1.         0.76450956 0.71736455 0.68552434 0.64358056 0.63303417]\n",
            " [0.9999999  0.6154574  0.6154574  0.6154574  0.6154574  0.57143784]\n",
            " [1.         1.         1.         0.80582297 0.7432942  0.6902685 ]\n",
            " ...\n",
            " [0.99999994 0.5763904  0.5763904  0.5763904  0.5763904  0.5763904 ]\n",
            " [0.99999994 0.45145118 0.42161417 0.42062485 0.41401422 0.39517713]\n",
            " [1.         0.7624929  0.7624929  0.5674536  0.50210506 0.48074287]]\n",
            "[[    0 13029  8497  6629  4070  6670]\n",
            " [    1   802  6666 11644 13065  2482]\n",
            " [ 7929 13521     2  4232  7263  9227]\n",
            " ...\n",
            " [13626 12895 11658  5890   511  8617]\n",
            " [13627  6430  8046  2541  5714  5235]\n",
            " [13628  8698  2975  2604  6253  5338]]\n"
          ]
        }
      ],
      "source": [
        "nbrs = NearestNeighbors(n_neighbors=6, algorithm='auto', metric='cosine')\n",
        "nbrs.fit(table)\n",
        "\n",
        "similarities, indices = nbrs.kneighbors(table)\n",
        "\n",
        "closeness =1- similarities\n",
        "\n",
        "print(closeness)\n",
        "print(indices)"
      ]
    },
    {
      "cell_type": "code",
      "execution_count": 14,
      "metadata": {
        "id": "m7_2wzjVjIct"
      },
      "outputs": [],
      "source": [
        "def get_recommends(book = \"\"):\n",
        "  ind=np.where(table.index==book)[0][0]\n",
        "  temp=indices[ind]\n",
        "  rc=[]\n",
        "  for i in range(len(temp)):\n",
        "\n",
        "    b=table.iloc[temp[i]].name\n",
        "    # temp_df=df_books[df_books['title']==b]\n",
        "    # temp_df.drop_duplicates('title')['title']\n",
        "    s=closeness[ind][i]\n",
        "    t2=[b]\n",
        "    rc.append(b)\n",
        "  recommended_books=[rc]\n",
        "\n",
        "\n",
        "  return recommended_books"
      ]
    },
    {
      "cell_type": "code",
      "execution_count": 15,
      "metadata": {
        "colab": {
          "base_uri": "https://localhost:8080/"
        },
        "id": "aMqhHiqwjOBP",
        "outputId": "47cc85c0-52f1-46d5-844d-16c843fa7e6c"
      },
      "outputs": [
        {
          "name": "stdout",
          "output_type": "stream",
          "text": [
            "[['Anna Karenina', \"Cleveland Amory's Compleat Cat: The Cat Who Came for Christmas : The Cat and the Curmudgeon, the Best Cat Ever\", 'Cosmos', 'The Red Badge of Courage', 'Tunnel Vision (V.I. Warshawski Novels (Hardcover))', 'The Lost Continent: Travels in Small Town America']]\n"
          ]
        }
      ],
      "source": [
        "books = get_recommends(\"Anna Karenina\")\n",
        "print(books)"
      ]
    },
    {
      "cell_type": "code",
      "execution_count": 16,
      "metadata": {},
      "outputs": [],
      "source": [
        "import pickle\n",
        "pickle.dump(table,open('table.pkl','wb'))\n",
        "pickle.dump(indices,open('indices.pkl','wb'))\n",
        "pickle.dump(closeness,open('closeness.pkl','wb'))"
      ]
    },
    {
      "cell_type": "code",
      "execution_count": null,
      "metadata": {},
      "outputs": [],
      "source": []
    },
    {
      "cell_type": "code",
      "execution_count": 18,
      "metadata": {},
      "outputs": [],
      "source": [
        "booksdb = pd.read_csv(\n",
        "    books_filename,\n",
        "    encoding = \"ISO-8859-1\",\n",
        "    sep=\";\",\n",
        "    header=0,\n",
        "    names=['isbn', 'title', 'author','y','p','img2','img'],\n",
        "    usecols=['isbn', 'title', 'author','y','p','img2','img'],\n",
        "    dtype={'isbn': 'str', 'title': 'str', 'author': 'str','y':'str','p':'str','img2':'str','img':'str'})"
      ]
    },
    {
      "cell_type": "code",
      "execution_count": 19,
      "metadata": {},
      "outputs": [],
      "source": [
        "pickle.dump(booksdb,open('booksdb.pkl','wb'))"
      ]
    },
    {
      "cell_type": "code",
      "execution_count": 46,
      "metadata": {},
      "outputs": [],
      "source": [
        "pickle.dump(titles2,open('titles.pkl','wb'))"
      ]
    },
    {
      "cell_type": "code",
      "execution_count": null,
      "metadata": {},
      "outputs": [],
      "source": [
        "booksdb"
      ]
    }
  ],
  "metadata": {
    "colab": {
      "provenance": []
    },
    "kernelspec": {
      "display_name": "Python 3",
      "name": "python3"
    },
    "language_info": {
      "codemirror_mode": {
        "name": "ipython",
        "version": 3
      },
      "file_extension": ".py",
      "mimetype": "text/x-python",
      "name": "python",
      "nbconvert_exporter": "python",
      "pygments_lexer": "ipython3",
      "version": "3.10.12"
    }
  },
  "nbformat": 4,
  "nbformat_minor": 0
}
